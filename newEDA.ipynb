{
 "cells": [
  {
   "cell_type": "markdown",
   "id": "bd912f52",
   "metadata": {},
   "source": [
    "### The assignment\n",
    "Forecasting predicts the number of sales in the future. Having the right amount of products in stock is a core challenge in retail. A good forecast makes sure there are enough of your favourite products in stock, even if you come to the store late in the evening.\n",
    "\n",
    "In this project, you will use a subset of M5 Forecasting - Accuracy hierarchical sales data from Walmart at one store, TX3 in the State of Texas, the world’s largest company by revenue, to forecast daily sales for the next 28 days. The data include item level, department, product categories, and store details. In addition, it has explanatory variables such as price, promotions, day of the week, and special events. Altogether, it can be used to improve forecasting accuracy. "
   ]
  },
  {
   "cell_type": "code",
   "execution_count": 1,
   "id": "a23ba8aa",
   "metadata": {},
   "outputs": [
    {
     "name": "stderr",
     "output_type": "stream",
     "text": [
      "Warning message:\n",
      "\"package 'tidyverse' was built under R version 4.1.3\"\n",
      "Warning message:\n",
      "\"package 'tibble' was built under R version 4.1.3\"\n",
      "Warning message:\n",
      "\"package 'tidyr' was built under R version 4.1.3\"\n",
      "Warning message:\n",
      "\"package 'readr' was built under R version 4.1.3\"\n",
      "Warning message:\n",
      "\"package 'purrr' was built under R version 4.1.3\"\n",
      "Warning message:\n",
      "\"package 'dplyr' was built under R version 4.1.3\"\n",
      "Warning message:\n",
      "\"package 'forcats' was built under R version 4.1.3\"\n",
      "Warning message:\n",
      "\"package 'lubridate' was built under R version 4.1.3\"\n",
      "-- \u001b[1mAttaching core tidyverse packages\u001b[22m ---------------------------------------------------------------- tidyverse 2.0.0 --\n",
      "\u001b[32mv\u001b[39m \u001b[34mdplyr    \u001b[39m 1.1.2     \u001b[32mv\u001b[39m \u001b[34mreadr    \u001b[39m 2.1.4\n",
      "\u001b[32mv\u001b[39m \u001b[34mforcats  \u001b[39m 1.0.0     \u001b[32mv\u001b[39m \u001b[34mstringr  \u001b[39m 1.5.1\n",
      "\u001b[32mv\u001b[39m \u001b[34mggplot2  \u001b[39m 3.5.1     \u001b[32mv\u001b[39m \u001b[34mtibble   \u001b[39m 3.2.1\n",
      "\u001b[32mv\u001b[39m \u001b[34mlubridate\u001b[39m 1.9.2     \u001b[32mv\u001b[39m \u001b[34mtidyr    \u001b[39m 1.3.0\n",
      "\u001b[32mv\u001b[39m \u001b[34mpurrr    \u001b[39m 1.0.1     \n",
      "-- \u001b[1mConflicts\u001b[22m ---------------------------------------------------------------------------------- tidyverse_conflicts() --\n",
      "\u001b[31mx\u001b[39m \u001b[34mdplyr\u001b[39m::\u001b[32mfilter()\u001b[39m masks \u001b[34mstats\u001b[39m::filter()\n",
      "\u001b[31mx\u001b[39m \u001b[34mdplyr\u001b[39m::\u001b[32mlag()\u001b[39m    masks \u001b[34mstats\u001b[39m::lag()\n",
      "\u001b[36mi\u001b[39m Use the conflicted package (\u001b[3m\u001b[34m<http://conflicted.r-lib.org/>\u001b[39m\u001b[23m) to force all conflicts to become errors\n",
      "Warning message:\n",
      "\"package 'data.table' was built under R version 4.1.3\"\n",
      "\n",
      "Attaching package: 'data.table'\n",
      "\n",
      "\n",
      "The following objects are masked from 'package:lubridate':\n",
      "\n",
      "    hour, isoweek, mday, minute, month, quarter, second, wday, week,\n",
      "    yday, year\n",
      "\n",
      "\n",
      "The following objects are masked from 'package:dplyr':\n",
      "\n",
      "    between, first, last\n",
      "\n",
      "\n",
      "The following object is masked from 'package:purrr':\n",
      "\n",
      "    transpose\n",
      "\n",
      "\n"
     ]
    }
   ],
   "source": [
    "# Load necessary libraries\n",
    "library(tidyverse)\n",
    "library(data.table)\n",
    "library(lubridate)"
   ]
  },
  {
   "cell_type": "markdown",
   "id": "3ab32b8e",
   "metadata": {},
   "source": [
    "### Loading & inspecting the files"
   ]
  },
  {
   "cell_type": "code",
   "execution_count": 2,
   "id": "258752b5",
   "metadata": {},
   "outputs": [],
   "source": [
    "# Csv files\n",
    "calendar <- fread(\"calendar_afcs2024.csv\")\n",
    "sell_prices <- fread(\"sell_prices_afcs2024.csv\")\n",
    "sales_train <- fread(\"sales_train_validation_afcs2024.csv\")\n",
    "sales_test <- fread(\"sales_test_validation_afcs2024.csv\")\n",
    "sample_submission <- fread(\"sample_submission_afcs2024.csv\")\n",
    "sales_test_evaluation <- fread(\"sales_test_evaluation_afcs_2024.csv\")"
   ]
  },
  {
   "cell_type": "code",
   "execution_count": 3,
   "id": "9f3aa731",
   "metadata": {},
   "outputs": [
    {
     "data": {
      "text/html": [
       "<table class=\"dataframe\">\n",
       "<caption>A data.table: 6 × 11</caption>\n",
       "<thead>\n",
       "\t<tr><th scope=col>date</th><th scope=col>wm_yr_wk</th><th scope=col>weekday</th><th scope=col>wday</th><th scope=col>month</th><th scope=col>year</th><th scope=col>event_name_1</th><th scope=col>event_type_1</th><th scope=col>event_name_2</th><th scope=col>event_type_2</th><th scope=col>snap_TX</th></tr>\n",
       "\t<tr><th scope=col>&lt;chr&gt;</th><th scope=col>&lt;int&gt;</th><th scope=col>&lt;chr&gt;</th><th scope=col>&lt;int&gt;</th><th scope=col>&lt;int&gt;</th><th scope=col>&lt;int&gt;</th><th scope=col>&lt;chr&gt;</th><th scope=col>&lt;chr&gt;</th><th scope=col>&lt;chr&gt;</th><th scope=col>&lt;chr&gt;</th><th scope=col>&lt;int&gt;</th></tr>\n",
       "</thead>\n",
       "<tbody>\n",
       "\t<tr><td>1/29/2011</td><td>11101</td><td>Saturday </td><td>1</td><td>1</td><td>2011</td><td>NA</td><td>NA</td><td>NA</td><td>NA</td><td>0</td></tr>\n",
       "\t<tr><td>1/30/2011</td><td>11101</td><td>Sunday   </td><td>2</td><td>1</td><td>2011</td><td>NA</td><td>NA</td><td>NA</td><td>NA</td><td>0</td></tr>\n",
       "\t<tr><td>1/31/2011</td><td>11101</td><td>Monday   </td><td>3</td><td>1</td><td>2011</td><td>NA</td><td>NA</td><td>NA</td><td>NA</td><td>0</td></tr>\n",
       "\t<tr><td>2/1/2011 </td><td>11101</td><td>Tuesday  </td><td>4</td><td>2</td><td>2011</td><td>NA</td><td>NA</td><td>NA</td><td>NA</td><td>1</td></tr>\n",
       "\t<tr><td>2/2/2011 </td><td>11101</td><td>Wednesday</td><td>5</td><td>2</td><td>2011</td><td>NA</td><td>NA</td><td>NA</td><td>NA</td><td>0</td></tr>\n",
       "\t<tr><td>2/3/2011 </td><td>11101</td><td>Thursday </td><td>6</td><td>2</td><td>2011</td><td>NA</td><td>NA</td><td>NA</td><td>NA</td><td>1</td></tr>\n",
       "</tbody>\n",
       "</table>\n"
      ],
      "text/latex": [
       "A data.table: 6 × 11\n",
       "\\begin{tabular}{lllllllllll}\n",
       " date & wm\\_yr\\_wk & weekday & wday & month & year & event\\_name\\_1 & event\\_type\\_1 & event\\_name\\_2 & event\\_type\\_2 & snap\\_TX\\\\\n",
       " <chr> & <int> & <chr> & <int> & <int> & <int> & <chr> & <chr> & <chr> & <chr> & <int>\\\\\n",
       "\\hline\n",
       "\t 1/29/2011 & 11101 & Saturday  & 1 & 1 & 2011 & NA & NA & NA & NA & 0\\\\\n",
       "\t 1/30/2011 & 11101 & Sunday    & 2 & 1 & 2011 & NA & NA & NA & NA & 0\\\\\n",
       "\t 1/31/2011 & 11101 & Monday    & 3 & 1 & 2011 & NA & NA & NA & NA & 0\\\\\n",
       "\t 2/1/2011  & 11101 & Tuesday   & 4 & 2 & 2011 & NA & NA & NA & NA & 1\\\\\n",
       "\t 2/2/2011  & 11101 & Wednesday & 5 & 2 & 2011 & NA & NA & NA & NA & 0\\\\\n",
       "\t 2/3/2011  & 11101 & Thursday  & 6 & 2 & 2011 & NA & NA & NA & NA & 1\\\\\n",
       "\\end{tabular}\n"
      ],
      "text/markdown": [
       "\n",
       "A data.table: 6 × 11\n",
       "\n",
       "| date &lt;chr&gt; | wm_yr_wk &lt;int&gt; | weekday &lt;chr&gt; | wday &lt;int&gt; | month &lt;int&gt; | year &lt;int&gt; | event_name_1 &lt;chr&gt; | event_type_1 &lt;chr&gt; | event_name_2 &lt;chr&gt; | event_type_2 &lt;chr&gt; | snap_TX &lt;int&gt; |\n",
       "|---|---|---|---|---|---|---|---|---|---|---|\n",
       "| 1/29/2011 | 11101 | Saturday  | 1 | 1 | 2011 | NA | NA | NA | NA | 0 |\n",
       "| 1/30/2011 | 11101 | Sunday    | 2 | 1 | 2011 | NA | NA | NA | NA | 0 |\n",
       "| 1/31/2011 | 11101 | Monday    | 3 | 1 | 2011 | NA | NA | NA | NA | 0 |\n",
       "| 2/1/2011  | 11101 | Tuesday   | 4 | 2 | 2011 | NA | NA | NA | NA | 1 |\n",
       "| 2/2/2011  | 11101 | Wednesday | 5 | 2 | 2011 | NA | NA | NA | NA | 0 |\n",
       "| 2/3/2011  | 11101 | Thursday  | 6 | 2 | 2011 | NA | NA | NA | NA | 1 |\n",
       "\n"
      ],
      "text/plain": [
       "  date      wm_yr_wk weekday   wday month year event_name_1 event_type_1\n",
       "1 1/29/2011 11101    Saturday  1    1     2011 NA           NA          \n",
       "2 1/30/2011 11101    Sunday    2    1     2011 NA           NA          \n",
       "3 1/31/2011 11101    Monday    3    1     2011 NA           NA          \n",
       "4 2/1/2011  11101    Tuesday   4    2     2011 NA           NA          \n",
       "5 2/2/2011  11101    Wednesday 5    2     2011 NA           NA          \n",
       "6 2/3/2011  11101    Thursday  6    2     2011 NA           NA          \n",
       "  event_name_2 event_type_2 snap_TX\n",
       "1 NA           NA           0      \n",
       "2 NA           NA           0      \n",
       "3 NA           NA           0      \n",
       "4 NA           NA           1      \n",
       "5 NA           NA           0      \n",
       "6 NA           NA           1      "
      ]
     },
     "metadata": {},
     "output_type": "display_data"
    }
   ],
   "source": [
    "head(calendar)"
   ]
  },
  {
   "cell_type": "code",
   "execution_count": 4,
   "id": "a856ca09",
   "metadata": {},
   "outputs": [
    {
     "data": {
      "text/html": [
       "<table class=\"dataframe\">\n",
       "<caption>A data.table: 6 × 4</caption>\n",
       "<thead>\n",
       "\t<tr><th scope=col>store_id</th><th scope=col>item_id</th><th scope=col>wm_yr_wk</th><th scope=col>sell_price</th></tr>\n",
       "\t<tr><th scope=col>&lt;chr&gt;</th><th scope=col>&lt;chr&gt;</th><th scope=col>&lt;int&gt;</th><th scope=col>&lt;dbl&gt;</th></tr>\n",
       "</thead>\n",
       "<tbody>\n",
       "\t<tr><td>TX_3</td><td>FOODS_3_001</td><td>11101</td><td>2.28</td></tr>\n",
       "\t<tr><td>TX_3</td><td>FOODS_3_001</td><td>11102</td><td>2.28</td></tr>\n",
       "\t<tr><td>TX_3</td><td>FOODS_3_001</td><td>11103</td><td>2.28</td></tr>\n",
       "\t<tr><td>TX_3</td><td>FOODS_3_001</td><td>11104</td><td>2.28</td></tr>\n",
       "\t<tr><td>TX_3</td><td>FOODS_3_001</td><td>11105</td><td>2.28</td></tr>\n",
       "\t<tr><td>TX_3</td><td>FOODS_3_001</td><td>11106</td><td>2.28</td></tr>\n",
       "</tbody>\n",
       "</table>\n"
      ],
      "text/latex": [
       "A data.table: 6 × 4\n",
       "\\begin{tabular}{llll}\n",
       " store\\_id & item\\_id & wm\\_yr\\_wk & sell\\_price\\\\\n",
       " <chr> & <chr> & <int> & <dbl>\\\\\n",
       "\\hline\n",
       "\t TX\\_3 & FOODS\\_3\\_001 & 11101 & 2.28\\\\\n",
       "\t TX\\_3 & FOODS\\_3\\_001 & 11102 & 2.28\\\\\n",
       "\t TX\\_3 & FOODS\\_3\\_001 & 11103 & 2.28\\\\\n",
       "\t TX\\_3 & FOODS\\_3\\_001 & 11104 & 2.28\\\\\n",
       "\t TX\\_3 & FOODS\\_3\\_001 & 11105 & 2.28\\\\\n",
       "\t TX\\_3 & FOODS\\_3\\_001 & 11106 & 2.28\\\\\n",
       "\\end{tabular}\n"
      ],
      "text/markdown": [
       "\n",
       "A data.table: 6 × 4\n",
       "\n",
       "| store_id &lt;chr&gt; | item_id &lt;chr&gt; | wm_yr_wk &lt;int&gt; | sell_price &lt;dbl&gt; |\n",
       "|---|---|---|---|\n",
       "| TX_3 | FOODS_3_001 | 11101 | 2.28 |\n",
       "| TX_3 | FOODS_3_001 | 11102 | 2.28 |\n",
       "| TX_3 | FOODS_3_001 | 11103 | 2.28 |\n",
       "| TX_3 | FOODS_3_001 | 11104 | 2.28 |\n",
       "| TX_3 | FOODS_3_001 | 11105 | 2.28 |\n",
       "| TX_3 | FOODS_3_001 | 11106 | 2.28 |\n",
       "\n"
      ],
      "text/plain": [
       "  store_id item_id     wm_yr_wk sell_price\n",
       "1 TX_3     FOODS_3_001 11101    2.28      \n",
       "2 TX_3     FOODS_3_001 11102    2.28      \n",
       "3 TX_3     FOODS_3_001 11103    2.28      \n",
       "4 TX_3     FOODS_3_001 11104    2.28      \n",
       "5 TX_3     FOODS_3_001 11105    2.28      \n",
       "6 TX_3     FOODS_3_001 11106    2.28      "
      ]
     },
     "metadata": {},
     "output_type": "display_data"
    }
   ],
   "source": [
    "head(sell_prices)"
   ]
  },
  {
   "cell_type": "code",
   "execution_count": 5,
   "id": "27b2c575",
   "metadata": {},
   "outputs": [
    {
     "data": {
      "text/html": [
       "<table class=\"dataframe\">\n",
       "<caption>A data.table: 6 × 1914</caption>\n",
       "<thead>\n",
       "\t<tr><th scope=col>id</th><th scope=col>d_1</th><th scope=col>d_2</th><th scope=col>d_3</th><th scope=col>d_4</th><th scope=col>d_5</th><th scope=col>d_6</th><th scope=col>d_7</th><th scope=col>d_8</th><th scope=col>d_9</th><th scope=col>...</th><th scope=col>d_1904</th><th scope=col>d_1905</th><th scope=col>d_1906</th><th scope=col>d_1907</th><th scope=col>d_1908</th><th scope=col>d_1909</th><th scope=col>d_1910</th><th scope=col>d_1911</th><th scope=col>d_1912</th><th scope=col>d_1913</th></tr>\n",
       "\t<tr><th scope=col>&lt;chr&gt;</th><th scope=col>&lt;int&gt;</th><th scope=col>&lt;int&gt;</th><th scope=col>&lt;int&gt;</th><th scope=col>&lt;int&gt;</th><th scope=col>&lt;int&gt;</th><th scope=col>&lt;int&gt;</th><th scope=col>&lt;int&gt;</th><th scope=col>&lt;int&gt;</th><th scope=col>&lt;int&gt;</th><th scope=col>...</th><th scope=col>&lt;int&gt;</th><th scope=col>&lt;int&gt;</th><th scope=col>&lt;int&gt;</th><th scope=col>&lt;int&gt;</th><th scope=col>&lt;int&gt;</th><th scope=col>&lt;int&gt;</th><th scope=col>&lt;int&gt;</th><th scope=col>&lt;int&gt;</th><th scope=col>&lt;int&gt;</th><th scope=col>&lt;int&gt;</th></tr>\n",
       "</thead>\n",
       "<tbody>\n",
       "\t<tr><td>FOODS_3_001_TX_3_validation</td><td>0</td><td>2</td><td>1</td><td>3</td><td>0</td><td>0</td><td>1</td><td>0</td><td>2</td><td>...</td><td>0</td><td>0</td><td>0</td><td>0</td><td>2</td><td>0</td><td>0</td><td>5</td><td>2</td><td>0</td></tr>\n",
       "\t<tr><td>FOODS_3_002_TX_3_validation</td><td>0</td><td>0</td><td>0</td><td>0</td><td>0</td><td>0</td><td>0</td><td>0</td><td>0</td><td>...</td><td>0</td><td>0</td><td>0</td><td>0</td><td>0</td><td>0</td><td>0</td><td>0</td><td>0</td><td>0</td></tr>\n",
       "\t<tr><td>FOODS_3_003_TX_3_validation</td><td>0</td><td>0</td><td>0</td><td>0</td><td>0</td><td>0</td><td>0</td><td>0</td><td>0</td><td>...</td><td>1</td><td>1</td><td>0</td><td>0</td><td>1</td><td>0</td><td>0</td><td>1</td><td>0</td><td>0</td></tr>\n",
       "\t<tr><td>FOODS_3_004_TX_3_validation</td><td>0</td><td>0</td><td>0</td><td>0</td><td>0</td><td>0</td><td>0</td><td>0</td><td>0</td><td>...</td><td>0</td><td>0</td><td>2</td><td>0</td><td>0</td><td>0</td><td>0</td><td>0</td><td>0</td><td>0</td></tr>\n",
       "\t<tr><td>FOODS_3_005_TX_3_validation</td><td>0</td><td>1</td><td>1</td><td>0</td><td>0</td><td>1</td><td>2</td><td>0</td><td>0</td><td>...</td><td>0</td><td>4</td><td>2</td><td>1</td><td>1</td><td>0</td><td>1</td><td>0</td><td>4</td><td>0</td></tr>\n",
       "\t<tr><td>FOODS_3_006_TX_3_validation</td><td>0</td><td>0</td><td>0</td><td>0</td><td>0</td><td>0</td><td>0</td><td>0</td><td>0</td><td>...</td><td>0</td><td>0</td><td>2</td><td>1</td><td>0</td><td>0</td><td>1</td><td>1</td><td>1</td><td>0</td></tr>\n",
       "</tbody>\n",
       "</table>\n"
      ],
      "text/latex": [
       "A data.table: 6 × 1914\n",
       "\\begin{tabular}{lllllllllllllllllllll}\n",
       " id & d\\_1 & d\\_2 & d\\_3 & d\\_4 & d\\_5 & d\\_6 & d\\_7 & d\\_8 & d\\_9 & ... & d\\_1904 & d\\_1905 & d\\_1906 & d\\_1907 & d\\_1908 & d\\_1909 & d\\_1910 & d\\_1911 & d\\_1912 & d\\_1913\\\\\n",
       " <chr> & <int> & <int> & <int> & <int> & <int> & <int> & <int> & <int> & <int> & ... & <int> & <int> & <int> & <int> & <int> & <int> & <int> & <int> & <int> & <int>\\\\\n",
       "\\hline\n",
       "\t FOODS\\_3\\_001\\_TX\\_3\\_validation & 0 & 2 & 1 & 3 & 0 & 0 & 1 & 0 & 2 & ... & 0 & 0 & 0 & 0 & 2 & 0 & 0 & 5 & 2 & 0\\\\\n",
       "\t FOODS\\_3\\_002\\_TX\\_3\\_validation & 0 & 0 & 0 & 0 & 0 & 0 & 0 & 0 & 0 & ... & 0 & 0 & 0 & 0 & 0 & 0 & 0 & 0 & 0 & 0\\\\\n",
       "\t FOODS\\_3\\_003\\_TX\\_3\\_validation & 0 & 0 & 0 & 0 & 0 & 0 & 0 & 0 & 0 & ... & 1 & 1 & 0 & 0 & 1 & 0 & 0 & 1 & 0 & 0\\\\\n",
       "\t FOODS\\_3\\_004\\_TX\\_3\\_validation & 0 & 0 & 0 & 0 & 0 & 0 & 0 & 0 & 0 & ... & 0 & 0 & 2 & 0 & 0 & 0 & 0 & 0 & 0 & 0\\\\\n",
       "\t FOODS\\_3\\_005\\_TX\\_3\\_validation & 0 & 1 & 1 & 0 & 0 & 1 & 2 & 0 & 0 & ... & 0 & 4 & 2 & 1 & 1 & 0 & 1 & 0 & 4 & 0\\\\\n",
       "\t FOODS\\_3\\_006\\_TX\\_3\\_validation & 0 & 0 & 0 & 0 & 0 & 0 & 0 & 0 & 0 & ... & 0 & 0 & 2 & 1 & 0 & 0 & 1 & 1 & 1 & 0\\\\\n",
       "\\end{tabular}\n"
      ],
      "text/markdown": [
       "\n",
       "A data.table: 6 × 1914\n",
       "\n",
       "| id &lt;chr&gt; | d_1 &lt;int&gt; | d_2 &lt;int&gt; | d_3 &lt;int&gt; | d_4 &lt;int&gt; | d_5 &lt;int&gt; | d_6 &lt;int&gt; | d_7 &lt;int&gt; | d_8 &lt;int&gt; | d_9 &lt;int&gt; | ... ... | d_1904 &lt;int&gt; | d_1905 &lt;int&gt; | d_1906 &lt;int&gt; | d_1907 &lt;int&gt; | d_1908 &lt;int&gt; | d_1909 &lt;int&gt; | d_1910 &lt;int&gt; | d_1911 &lt;int&gt; | d_1912 &lt;int&gt; | d_1913 &lt;int&gt; |\n",
       "|---|---|---|---|---|---|---|---|---|---|---|---|---|---|---|---|---|---|---|---|---|\n",
       "| FOODS_3_001_TX_3_validation | 0 | 2 | 1 | 3 | 0 | 0 | 1 | 0 | 2 | ... | 0 | 0 | 0 | 0 | 2 | 0 | 0 | 5 | 2 | 0 |\n",
       "| FOODS_3_002_TX_3_validation | 0 | 0 | 0 | 0 | 0 | 0 | 0 | 0 | 0 | ... | 0 | 0 | 0 | 0 | 0 | 0 | 0 | 0 | 0 | 0 |\n",
       "| FOODS_3_003_TX_3_validation | 0 | 0 | 0 | 0 | 0 | 0 | 0 | 0 | 0 | ... | 1 | 1 | 0 | 0 | 1 | 0 | 0 | 1 | 0 | 0 |\n",
       "| FOODS_3_004_TX_3_validation | 0 | 0 | 0 | 0 | 0 | 0 | 0 | 0 | 0 | ... | 0 | 0 | 2 | 0 | 0 | 0 | 0 | 0 | 0 | 0 |\n",
       "| FOODS_3_005_TX_3_validation | 0 | 1 | 1 | 0 | 0 | 1 | 2 | 0 | 0 | ... | 0 | 4 | 2 | 1 | 1 | 0 | 1 | 0 | 4 | 0 |\n",
       "| FOODS_3_006_TX_3_validation | 0 | 0 | 0 | 0 | 0 | 0 | 0 | 0 | 0 | ... | 0 | 0 | 2 | 1 | 0 | 0 | 1 | 1 | 1 | 0 |\n",
       "\n"
      ],
      "text/plain": [
       "  id                          d_1 d_2 d_3 d_4 d_5 d_6 d_7 d_8 d_9 ... d_1904\n",
       "1 FOODS_3_001_TX_3_validation 0   2   1   3   0   0   1   0   2   ... 0     \n",
       "2 FOODS_3_002_TX_3_validation 0   0   0   0   0   0   0   0   0   ... 0     \n",
       "3 FOODS_3_003_TX_3_validation 0   0   0   0   0   0   0   0   0   ... 1     \n",
       "4 FOODS_3_004_TX_3_validation 0   0   0   0   0   0   0   0   0   ... 0     \n",
       "5 FOODS_3_005_TX_3_validation 0   1   1   0   0   1   2   0   0   ... 0     \n",
       "6 FOODS_3_006_TX_3_validation 0   0   0   0   0   0   0   0   0   ... 0     \n",
       "  d_1905 d_1906 d_1907 d_1908 d_1909 d_1910 d_1911 d_1912 d_1913\n",
       "1 0      0      0      2      0      0      5      2      0     \n",
       "2 0      0      0      0      0      0      0      0      0     \n",
       "3 1      0      0      1      0      0      1      0      0     \n",
       "4 0      2      0      0      0      0      0      0      0     \n",
       "5 4      2      1      1      0      1      0      4      0     \n",
       "6 0      2      1      0      0      1      1      1      0     "
      ]
     },
     "metadata": {},
     "output_type": "display_data"
    }
   ],
   "source": [
    "head(sales_train) # sales test and test_evaluation have the same structure, it's just a different subset of d_is"
   ]
  },
  {
   "cell_type": "code",
   "execution_count": 6,
   "id": "0182be9a",
   "metadata": {},
   "outputs": [
    {
     "data": {
      "text/html": [
       "<table class=\"dataframe\">\n",
       "<caption>A data.table: 6 × 29</caption>\n",
       "<thead>\n",
       "\t<tr><th scope=col>id</th><th scope=col>F1</th><th scope=col>F2</th><th scope=col>F3</th><th scope=col>F4</th><th scope=col>F5</th><th scope=col>F6</th><th scope=col>F7</th><th scope=col>F8</th><th scope=col>F9</th><th scope=col>...</th><th scope=col>F19</th><th scope=col>F20</th><th scope=col>F21</th><th scope=col>F22</th><th scope=col>F23</th><th scope=col>F24</th><th scope=col>F25</th><th scope=col>F26</th><th scope=col>F27</th><th scope=col>F28</th></tr>\n",
       "\t<tr><th scope=col>&lt;chr&gt;</th><th scope=col>&lt;int&gt;</th><th scope=col>&lt;int&gt;</th><th scope=col>&lt;int&gt;</th><th scope=col>&lt;int&gt;</th><th scope=col>&lt;int&gt;</th><th scope=col>&lt;int&gt;</th><th scope=col>&lt;int&gt;</th><th scope=col>&lt;int&gt;</th><th scope=col>&lt;int&gt;</th><th scope=col>...</th><th scope=col>&lt;int&gt;</th><th scope=col>&lt;int&gt;</th><th scope=col>&lt;int&gt;</th><th scope=col>&lt;int&gt;</th><th scope=col>&lt;int&gt;</th><th scope=col>&lt;int&gt;</th><th scope=col>&lt;int&gt;</th><th scope=col>&lt;int&gt;</th><th scope=col>&lt;int&gt;</th><th scope=col>&lt;int&gt;</th></tr>\n",
       "</thead>\n",
       "<tbody>\n",
       "\t<tr><td>FOODS_3_001_TX_3_validation</td><td>0</td><td>0</td><td>0</td><td>0</td><td>0</td><td>0</td><td>0</td><td>0</td><td>0</td><td>...</td><td>0</td><td>0</td><td>0</td><td>0</td><td>0</td><td>0</td><td>0</td><td>0</td><td>0</td><td>0</td></tr>\n",
       "\t<tr><td>FOODS_3_002_TX_3_validation</td><td>0</td><td>0</td><td>0</td><td>0</td><td>0</td><td>0</td><td>0</td><td>0</td><td>0</td><td>...</td><td>0</td><td>0</td><td>0</td><td>0</td><td>0</td><td>0</td><td>0</td><td>0</td><td>0</td><td>0</td></tr>\n",
       "\t<tr><td>FOODS_3_003_TX_3_validation</td><td>0</td><td>0</td><td>0</td><td>0</td><td>0</td><td>0</td><td>0</td><td>0</td><td>0</td><td>...</td><td>0</td><td>0</td><td>0</td><td>0</td><td>0</td><td>0</td><td>0</td><td>0</td><td>0</td><td>0</td></tr>\n",
       "\t<tr><td>FOODS_3_004_TX_3_validation</td><td>0</td><td>0</td><td>0</td><td>0</td><td>0</td><td>0</td><td>0</td><td>0</td><td>0</td><td>...</td><td>0</td><td>0</td><td>0</td><td>0</td><td>0</td><td>0</td><td>0</td><td>0</td><td>0</td><td>0</td></tr>\n",
       "\t<tr><td>FOODS_3_005_TX_3_validation</td><td>0</td><td>0</td><td>0</td><td>0</td><td>0</td><td>0</td><td>0</td><td>0</td><td>0</td><td>...</td><td>0</td><td>0</td><td>0</td><td>0</td><td>0</td><td>0</td><td>0</td><td>0</td><td>0</td><td>0</td></tr>\n",
       "\t<tr><td>FOODS_3_006_TX_3_validation</td><td>0</td><td>0</td><td>0</td><td>0</td><td>0</td><td>0</td><td>0</td><td>0</td><td>0</td><td>...</td><td>0</td><td>0</td><td>0</td><td>0</td><td>0</td><td>0</td><td>0</td><td>0</td><td>0</td><td>0</td></tr>\n",
       "</tbody>\n",
       "</table>\n"
      ],
      "text/latex": [
       "A data.table: 6 × 29\n",
       "\\begin{tabular}{lllllllllllllllllllll}\n",
       " id & F1 & F2 & F3 & F4 & F5 & F6 & F7 & F8 & F9 & ... & F19 & F20 & F21 & F22 & F23 & F24 & F25 & F26 & F27 & F28\\\\\n",
       " <chr> & <int> & <int> & <int> & <int> & <int> & <int> & <int> & <int> & <int> & ... & <int> & <int> & <int> & <int> & <int> & <int> & <int> & <int> & <int> & <int>\\\\\n",
       "\\hline\n",
       "\t FOODS\\_3\\_001\\_TX\\_3\\_validation & 0 & 0 & 0 & 0 & 0 & 0 & 0 & 0 & 0 & ... & 0 & 0 & 0 & 0 & 0 & 0 & 0 & 0 & 0 & 0\\\\\n",
       "\t FOODS\\_3\\_002\\_TX\\_3\\_validation & 0 & 0 & 0 & 0 & 0 & 0 & 0 & 0 & 0 & ... & 0 & 0 & 0 & 0 & 0 & 0 & 0 & 0 & 0 & 0\\\\\n",
       "\t FOODS\\_3\\_003\\_TX\\_3\\_validation & 0 & 0 & 0 & 0 & 0 & 0 & 0 & 0 & 0 & ... & 0 & 0 & 0 & 0 & 0 & 0 & 0 & 0 & 0 & 0\\\\\n",
       "\t FOODS\\_3\\_004\\_TX\\_3\\_validation & 0 & 0 & 0 & 0 & 0 & 0 & 0 & 0 & 0 & ... & 0 & 0 & 0 & 0 & 0 & 0 & 0 & 0 & 0 & 0\\\\\n",
       "\t FOODS\\_3\\_005\\_TX\\_3\\_validation & 0 & 0 & 0 & 0 & 0 & 0 & 0 & 0 & 0 & ... & 0 & 0 & 0 & 0 & 0 & 0 & 0 & 0 & 0 & 0\\\\\n",
       "\t FOODS\\_3\\_006\\_TX\\_3\\_validation & 0 & 0 & 0 & 0 & 0 & 0 & 0 & 0 & 0 & ... & 0 & 0 & 0 & 0 & 0 & 0 & 0 & 0 & 0 & 0\\\\\n",
       "\\end{tabular}\n"
      ],
      "text/markdown": [
       "\n",
       "A data.table: 6 × 29\n",
       "\n",
       "| id &lt;chr&gt; | F1 &lt;int&gt; | F2 &lt;int&gt; | F3 &lt;int&gt; | F4 &lt;int&gt; | F5 &lt;int&gt; | F6 &lt;int&gt; | F7 &lt;int&gt; | F8 &lt;int&gt; | F9 &lt;int&gt; | ... ... | F19 &lt;int&gt; | F20 &lt;int&gt; | F21 &lt;int&gt; | F22 &lt;int&gt; | F23 &lt;int&gt; | F24 &lt;int&gt; | F25 &lt;int&gt; | F26 &lt;int&gt; | F27 &lt;int&gt; | F28 &lt;int&gt; |\n",
       "|---|---|---|---|---|---|---|---|---|---|---|---|---|---|---|---|---|---|---|---|---|\n",
       "| FOODS_3_001_TX_3_validation | 0 | 0 | 0 | 0 | 0 | 0 | 0 | 0 | 0 | ... | 0 | 0 | 0 | 0 | 0 | 0 | 0 | 0 | 0 | 0 |\n",
       "| FOODS_3_002_TX_3_validation | 0 | 0 | 0 | 0 | 0 | 0 | 0 | 0 | 0 | ... | 0 | 0 | 0 | 0 | 0 | 0 | 0 | 0 | 0 | 0 |\n",
       "| FOODS_3_003_TX_3_validation | 0 | 0 | 0 | 0 | 0 | 0 | 0 | 0 | 0 | ... | 0 | 0 | 0 | 0 | 0 | 0 | 0 | 0 | 0 | 0 |\n",
       "| FOODS_3_004_TX_3_validation | 0 | 0 | 0 | 0 | 0 | 0 | 0 | 0 | 0 | ... | 0 | 0 | 0 | 0 | 0 | 0 | 0 | 0 | 0 | 0 |\n",
       "| FOODS_3_005_TX_3_validation | 0 | 0 | 0 | 0 | 0 | 0 | 0 | 0 | 0 | ... | 0 | 0 | 0 | 0 | 0 | 0 | 0 | 0 | 0 | 0 |\n",
       "| FOODS_3_006_TX_3_validation | 0 | 0 | 0 | 0 | 0 | 0 | 0 | 0 | 0 | ... | 0 | 0 | 0 | 0 | 0 | 0 | 0 | 0 | 0 | 0 |\n",
       "\n"
      ],
      "text/plain": [
       "  id                          F1 F2 F3 F4 F5 F6 F7 F8 F9 ... F19 F20 F21 F22\n",
       "1 FOODS_3_001_TX_3_validation 0  0  0  0  0  0  0  0  0  ... 0   0   0   0  \n",
       "2 FOODS_3_002_TX_3_validation 0  0  0  0  0  0  0  0  0  ... 0   0   0   0  \n",
       "3 FOODS_3_003_TX_3_validation 0  0  0  0  0  0  0  0  0  ... 0   0   0   0  \n",
       "4 FOODS_3_004_TX_3_validation 0  0  0  0  0  0  0  0  0  ... 0   0   0   0  \n",
       "5 FOODS_3_005_TX_3_validation 0  0  0  0  0  0  0  0  0  ... 0   0   0   0  \n",
       "6 FOODS_3_006_TX_3_validation 0  0  0  0  0  0  0  0  0  ... 0   0   0   0  \n",
       "  F23 F24 F25 F26 F27 F28\n",
       "1 0   0   0   0   0   0  \n",
       "2 0   0   0   0   0   0  \n",
       "3 0   0   0   0   0   0  \n",
       "4 0   0   0   0   0   0  \n",
       "5 0   0   0   0   0   0  \n",
       "6 0   0   0   0   0   0  "
      ]
     },
     "metadata": {},
     "output_type": "display_data"
    }
   ],
   "source": [
    "head(sample_submission)"
   ]
  },
  {
   "cell_type": "markdown",
   "id": "138b0cd5",
   "metadata": {},
   "source": [
    "### Handling missing values in calendar and sell prices"
   ]
  },
  {
   "cell_type": "code",
   "execution_count": 7,
   "id": "caa0412c",
   "metadata": {},
   "outputs": [
    {
     "data": {
      "text/html": [
       "<style>\n",
       ".dl-inline {width: auto; margin:0; padding: 0}\n",
       ".dl-inline>dt, .dl-inline>dd {float: none; width: auto; display: inline-block}\n",
       ".dl-inline>dt::after {content: \":\\0020\"; padding-right: .5ex}\n",
       ".dl-inline>dt:not(:first-of-type) {padding-left: .5ex}\n",
       "</style><dl class=dl-inline><dt>date</dt><dd>0</dd><dt>wm_yr_wk</dt><dd>0</dd><dt>weekday</dt><dd>0</dd><dt>wday</dt><dd>0</dd><dt>month</dt><dd>0</dd><dt>year</dt><dd>0</dd><dt>event_name_1</dt><dd>1807</dd><dt>event_type_1</dt><dd>1807</dd><dt>event_name_2</dt><dd>1964</dd><dt>event_type_2</dt><dd>1964</dd><dt>snap_TX</dt><dd>0</dd></dl>\n"
      ],
      "text/latex": [
       "\\begin{description*}\n",
       "\\item[date] 0\n",
       "\\item[wm\\textbackslash{}\\_yr\\textbackslash{}\\_wk] 0\n",
       "\\item[weekday] 0\n",
       "\\item[wday] 0\n",
       "\\item[month] 0\n",
       "\\item[year] 0\n",
       "\\item[event\\textbackslash{}\\_name\\textbackslash{}\\_1] 1807\n",
       "\\item[event\\textbackslash{}\\_type\\textbackslash{}\\_1] 1807\n",
       "\\item[event\\textbackslash{}\\_name\\textbackslash{}\\_2] 1964\n",
       "\\item[event\\textbackslash{}\\_type\\textbackslash{}\\_2] 1964\n",
       "\\item[snap\\textbackslash{}\\_TX] 0\n",
       "\\end{description*}\n"
      ],
      "text/markdown": [
       "date\n",
       ":   0wm_yr_wk\n",
       ":   0weekday\n",
       ":   0wday\n",
       ":   0month\n",
       ":   0year\n",
       ":   0event_name_1\n",
       ":   1807event_type_1\n",
       ":   1807event_name_2\n",
       ":   1964event_type_2\n",
       ":   1964snap_TX\n",
       ":   0\n",
       "\n"
      ],
      "text/plain": [
       "        date     wm_yr_wk      weekday         wday        month         year \n",
       "           0            0            0            0            0            0 \n",
       "event_name_1 event_type_1 event_name_2 event_type_2      snap_TX \n",
       "        1807         1807         1964         1964            0 "
      ]
     },
     "metadata": {},
     "output_type": "display_data"
    },
    {
     "data": {
      "text/html": [
       "<style>\n",
       ".dl-inline {width: auto; margin:0; padding: 0}\n",
       ".dl-inline>dt, .dl-inline>dd {float: none; width: auto; display: inline-block}\n",
       ".dl-inline>dt::after {content: \":\\0020\"; padding-right: .5ex}\n",
       ".dl-inline>dt:not(:first-of-type) {padding-left: .5ex}\n",
       "</style><dl class=dl-inline><dt>store_id</dt><dd>0</dd><dt>item_id</dt><dd>0</dd><dt>wm_yr_wk</dt><dd>0</dd><dt>sell_price</dt><dd>0</dd></dl>\n"
      ],
      "text/latex": [
       "\\begin{description*}\n",
       "\\item[store\\textbackslash{}\\_id] 0\n",
       "\\item[item\\textbackslash{}\\_id] 0\n",
       "\\item[wm\\textbackslash{}\\_yr\\textbackslash{}\\_wk] 0\n",
       "\\item[sell\\textbackslash{}\\_price] 0\n",
       "\\end{description*}\n"
      ],
      "text/markdown": [
       "store_id\n",
       ":   0item_id\n",
       ":   0wm_yr_wk\n",
       ":   0sell_price\n",
       ":   0\n",
       "\n"
      ],
      "text/plain": [
       "  store_id    item_id   wm_yr_wk sell_price \n",
       "         0          0          0          0 "
      ]
     },
     "metadata": {},
     "output_type": "display_data"
    }
   ],
   "source": [
    "# Number of missing values\n",
    "colSums(is.na(calendar)) \n",
    "colSums(is.na(sell_prices)) "
   ]
  },
  {
   "cell_type": "markdown",
   "id": "5606354c",
   "metadata": {},
   "source": [
    "The columns related to events (event_name_1, event_type_1, etc.) have many missing values (NA).\n",
    "No imputation is necessary as these events are 'missing by design,' which means that they are intentionally left blank to indicate that there were no special events on those days.\n",
    "     "
   ]
  },
  {
   "cell_type": "markdown",
   "id": "8181451e",
   "metadata": {},
   "source": [
    "### Merging datasets"
   ]
  },
  {
   "cell_type": "code",
   "execution_count": 14,
   "id": "f15caa9d",
   "metadata": {},
   "outputs": [],
   "source": [
    "# sales_train data as a data.table\n",
    "sales_train <- as.data.table(sales_train)\n",
    "    \n",
    "# Extracting the item_id from the id column in sales_train in order to match it with sell_prices dataset\n",
    "sales_train_long <- sales_train[, c(\n",
    "  .SD,  # This keeps all existing columns in the data.table\n",
    "  .(\n",
    "    item_id = paste(tstrsplit(id, \"_\", fixed = TRUE)[[1]], \n",
    "                    tstrsplit(id, \"_\", fixed = TRUE)[[2]], \n",
    "                    tstrsplit(id, \"_\", fixed = TRUE)[[3]], sep = \"_\")\n",
    "  )\n",
    "), by = .(id)]"
   ]
  },
  {
   "cell_type": "code",
   "execution_count": 15,
   "id": "c49d1a4a",
   "metadata": {},
   "outputs": [
    {
     "data": {
      "text/html": [
       "<table class=\"dataframe\">\n",
       "<caption>A data.table: 6 × 1915</caption>\n",
       "<thead>\n",
       "\t<tr><th scope=col>id</th><th scope=col>d_1</th><th scope=col>d_2</th><th scope=col>d_3</th><th scope=col>d_4</th><th scope=col>d_5</th><th scope=col>d_6</th><th scope=col>d_7</th><th scope=col>d_8</th><th scope=col>d_9</th><th scope=col>...</th><th scope=col>d_1905</th><th scope=col>d_1906</th><th scope=col>d_1907</th><th scope=col>d_1908</th><th scope=col>d_1909</th><th scope=col>d_1910</th><th scope=col>d_1911</th><th scope=col>d_1912</th><th scope=col>d_1913</th><th scope=col>item_id</th></tr>\n",
       "\t<tr><th scope=col>&lt;chr&gt;</th><th scope=col>&lt;int&gt;</th><th scope=col>&lt;int&gt;</th><th scope=col>&lt;int&gt;</th><th scope=col>&lt;int&gt;</th><th scope=col>&lt;int&gt;</th><th scope=col>&lt;int&gt;</th><th scope=col>&lt;int&gt;</th><th scope=col>&lt;int&gt;</th><th scope=col>&lt;int&gt;</th><th scope=col>...</th><th scope=col>&lt;int&gt;</th><th scope=col>&lt;int&gt;</th><th scope=col>&lt;int&gt;</th><th scope=col>&lt;int&gt;</th><th scope=col>&lt;int&gt;</th><th scope=col>&lt;int&gt;</th><th scope=col>&lt;int&gt;</th><th scope=col>&lt;int&gt;</th><th scope=col>&lt;int&gt;</th><th scope=col>&lt;chr&gt;</th></tr>\n",
       "</thead>\n",
       "<tbody>\n",
       "\t<tr><td>FOODS_3_001_TX_3_validation</td><td>0</td><td>2</td><td>1</td><td>3</td><td>0</td><td>0</td><td>1</td><td>0</td><td>2</td><td>...</td><td>0</td><td>0</td><td>0</td><td>2</td><td>0</td><td>0</td><td>5</td><td>2</td><td>0</td><td>FOODS_3_001</td></tr>\n",
       "\t<tr><td>FOODS_3_002_TX_3_validation</td><td>0</td><td>0</td><td>0</td><td>0</td><td>0</td><td>0</td><td>0</td><td>0</td><td>0</td><td>...</td><td>0</td><td>0</td><td>0</td><td>0</td><td>0</td><td>0</td><td>0</td><td>0</td><td>0</td><td>FOODS_3_002</td></tr>\n",
       "\t<tr><td>FOODS_3_003_TX_3_validation</td><td>0</td><td>0</td><td>0</td><td>0</td><td>0</td><td>0</td><td>0</td><td>0</td><td>0</td><td>...</td><td>1</td><td>0</td><td>0</td><td>1</td><td>0</td><td>0</td><td>1</td><td>0</td><td>0</td><td>FOODS_3_003</td></tr>\n",
       "\t<tr><td>FOODS_3_004_TX_3_validation</td><td>0</td><td>0</td><td>0</td><td>0</td><td>0</td><td>0</td><td>0</td><td>0</td><td>0</td><td>...</td><td>0</td><td>2</td><td>0</td><td>0</td><td>0</td><td>0</td><td>0</td><td>0</td><td>0</td><td>FOODS_3_004</td></tr>\n",
       "\t<tr><td>FOODS_3_005_TX_3_validation</td><td>0</td><td>1</td><td>1</td><td>0</td><td>0</td><td>1</td><td>2</td><td>0</td><td>0</td><td>...</td><td>4</td><td>2</td><td>1</td><td>1</td><td>0</td><td>1</td><td>0</td><td>4</td><td>0</td><td>FOODS_3_005</td></tr>\n",
       "\t<tr><td>FOODS_3_006_TX_3_validation</td><td>0</td><td>0</td><td>0</td><td>0</td><td>0</td><td>0</td><td>0</td><td>0</td><td>0</td><td>...</td><td>0</td><td>2</td><td>1</td><td>0</td><td>0</td><td>1</td><td>1</td><td>1</td><td>0</td><td>FOODS_3_006</td></tr>\n",
       "</tbody>\n",
       "</table>\n"
      ],
      "text/latex": [
       "A data.table: 6 × 1915\n",
       "\\begin{tabular}{lllllllllllllllllllll}\n",
       " id & d\\_1 & d\\_2 & d\\_3 & d\\_4 & d\\_5 & d\\_6 & d\\_7 & d\\_8 & d\\_9 & ... & d\\_1905 & d\\_1906 & d\\_1907 & d\\_1908 & d\\_1909 & d\\_1910 & d\\_1911 & d\\_1912 & d\\_1913 & item\\_id\\\\\n",
       " <chr> & <int> & <int> & <int> & <int> & <int> & <int> & <int> & <int> & <int> & ... & <int> & <int> & <int> & <int> & <int> & <int> & <int> & <int> & <int> & <chr>\\\\\n",
       "\\hline\n",
       "\t FOODS\\_3\\_001\\_TX\\_3\\_validation & 0 & 2 & 1 & 3 & 0 & 0 & 1 & 0 & 2 & ... & 0 & 0 & 0 & 2 & 0 & 0 & 5 & 2 & 0 & FOODS\\_3\\_001\\\\\n",
       "\t FOODS\\_3\\_002\\_TX\\_3\\_validation & 0 & 0 & 0 & 0 & 0 & 0 & 0 & 0 & 0 & ... & 0 & 0 & 0 & 0 & 0 & 0 & 0 & 0 & 0 & FOODS\\_3\\_002\\\\\n",
       "\t FOODS\\_3\\_003\\_TX\\_3\\_validation & 0 & 0 & 0 & 0 & 0 & 0 & 0 & 0 & 0 & ... & 1 & 0 & 0 & 1 & 0 & 0 & 1 & 0 & 0 & FOODS\\_3\\_003\\\\\n",
       "\t FOODS\\_3\\_004\\_TX\\_3\\_validation & 0 & 0 & 0 & 0 & 0 & 0 & 0 & 0 & 0 & ... & 0 & 2 & 0 & 0 & 0 & 0 & 0 & 0 & 0 & FOODS\\_3\\_004\\\\\n",
       "\t FOODS\\_3\\_005\\_TX\\_3\\_validation & 0 & 1 & 1 & 0 & 0 & 1 & 2 & 0 & 0 & ... & 4 & 2 & 1 & 1 & 0 & 1 & 0 & 4 & 0 & FOODS\\_3\\_005\\\\\n",
       "\t FOODS\\_3\\_006\\_TX\\_3\\_validation & 0 & 0 & 0 & 0 & 0 & 0 & 0 & 0 & 0 & ... & 0 & 2 & 1 & 0 & 0 & 1 & 1 & 1 & 0 & FOODS\\_3\\_006\\\\\n",
       "\\end{tabular}\n"
      ],
      "text/markdown": [
       "\n",
       "A data.table: 6 × 1915\n",
       "\n",
       "| id &lt;chr&gt; | d_1 &lt;int&gt; | d_2 &lt;int&gt; | d_3 &lt;int&gt; | d_4 &lt;int&gt; | d_5 &lt;int&gt; | d_6 &lt;int&gt; | d_7 &lt;int&gt; | d_8 &lt;int&gt; | d_9 &lt;int&gt; | ... ... | d_1905 &lt;int&gt; | d_1906 &lt;int&gt; | d_1907 &lt;int&gt; | d_1908 &lt;int&gt; | d_1909 &lt;int&gt; | d_1910 &lt;int&gt; | d_1911 &lt;int&gt; | d_1912 &lt;int&gt; | d_1913 &lt;int&gt; | item_id &lt;chr&gt; |\n",
       "|---|---|---|---|---|---|---|---|---|---|---|---|---|---|---|---|---|---|---|---|---|\n",
       "| FOODS_3_001_TX_3_validation | 0 | 2 | 1 | 3 | 0 | 0 | 1 | 0 | 2 | ... | 0 | 0 | 0 | 2 | 0 | 0 | 5 | 2 | 0 | FOODS_3_001 |\n",
       "| FOODS_3_002_TX_3_validation | 0 | 0 | 0 | 0 | 0 | 0 | 0 | 0 | 0 | ... | 0 | 0 | 0 | 0 | 0 | 0 | 0 | 0 | 0 | FOODS_3_002 |\n",
       "| FOODS_3_003_TX_3_validation | 0 | 0 | 0 | 0 | 0 | 0 | 0 | 0 | 0 | ... | 1 | 0 | 0 | 1 | 0 | 0 | 1 | 0 | 0 | FOODS_3_003 |\n",
       "| FOODS_3_004_TX_3_validation | 0 | 0 | 0 | 0 | 0 | 0 | 0 | 0 | 0 | ... | 0 | 2 | 0 | 0 | 0 | 0 | 0 | 0 | 0 | FOODS_3_004 |\n",
       "| FOODS_3_005_TX_3_validation | 0 | 1 | 1 | 0 | 0 | 1 | 2 | 0 | 0 | ... | 4 | 2 | 1 | 1 | 0 | 1 | 0 | 4 | 0 | FOODS_3_005 |\n",
       "| FOODS_3_006_TX_3_validation | 0 | 0 | 0 | 0 | 0 | 0 | 0 | 0 | 0 | ... | 0 | 2 | 1 | 0 | 0 | 1 | 1 | 1 | 0 | FOODS_3_006 |\n",
       "\n"
      ],
      "text/plain": [
       "  id                          d_1 d_2 d_3 d_4 d_5 d_6 d_7 d_8 d_9 ... d_1905\n",
       "1 FOODS_3_001_TX_3_validation 0   2   1   3   0   0   1   0   2   ... 0     \n",
       "2 FOODS_3_002_TX_3_validation 0   0   0   0   0   0   0   0   0   ... 0     \n",
       "3 FOODS_3_003_TX_3_validation 0   0   0   0   0   0   0   0   0   ... 1     \n",
       "4 FOODS_3_004_TX_3_validation 0   0   0   0   0   0   0   0   0   ... 0     \n",
       "5 FOODS_3_005_TX_3_validation 0   1   1   0   0   1   2   0   0   ... 4     \n",
       "6 FOODS_3_006_TX_3_validation 0   0   0   0   0   0   0   0   0   ... 0     \n",
       "  d_1906 d_1907 d_1908 d_1909 d_1910 d_1911 d_1912 d_1913 item_id    \n",
       "1 0      0      2      0      0      5      2      0      FOODS_3_001\n",
       "2 0      0      0      0      0      0      0      0      FOODS_3_002\n",
       "3 0      0      1      0      0      1      0      0      FOODS_3_003\n",
       "4 2      0      0      0      0      0      0      0      FOODS_3_004\n",
       "5 2      1      1      0      1      0      4      0      FOODS_3_005\n",
       "6 2      1      0      0      1      1      1      0      FOODS_3_006"
      ]
     },
     "metadata": {},
     "output_type": "display_data"
    }
   ],
   "source": [
    "head(sales_train_long)"
   ]
  },
  {
   "cell_type": "code",
   "execution_count": 16,
   "id": "85241cba",
   "metadata": {},
   "outputs": [],
   "source": [
    "sell_prices <- as.data.table(sell_prices)\n",
    "sales_prices <- merge(sales_train_long, sell_prices, by = c(\"item_id\"), all.x = TRUE)"
   ]
  },
  {
   "cell_type": "code",
   "execution_count": 25,
   "id": "8b13e412",
   "metadata": {},
   "outputs": [
    {
     "data": {
      "text/html": [
       "<table class=\"dataframe\">\n",
       "<caption>A data.table: 6 × 1917</caption>\n",
       "<thead>\n",
       "\t<tr><th scope=col>item_id</th><th scope=col>d_1</th><th scope=col>d_2</th><th scope=col>d_3</th><th scope=col>d_4</th><th scope=col>d_5</th><th scope=col>d_6</th><th scope=col>d_7</th><th scope=col>d_8</th><th scope=col>d_9</th><th scope=col>...</th><th scope=col>d_1907</th><th scope=col>d_1908</th><th scope=col>d_1909</th><th scope=col>d_1910</th><th scope=col>d_1911</th><th scope=col>d_1912</th><th scope=col>d_1913</th><th scope=col>store_id</th><th scope=col>wm_yr_wk</th><th scope=col>sell_price</th></tr>\n",
       "\t<tr><th scope=col>&lt;chr&gt;</th><th scope=col>&lt;int&gt;</th><th scope=col>&lt;int&gt;</th><th scope=col>&lt;int&gt;</th><th scope=col>&lt;int&gt;</th><th scope=col>&lt;int&gt;</th><th scope=col>&lt;int&gt;</th><th scope=col>&lt;int&gt;</th><th scope=col>&lt;int&gt;</th><th scope=col>&lt;int&gt;</th><th scope=col>...</th><th scope=col>&lt;int&gt;</th><th scope=col>&lt;int&gt;</th><th scope=col>&lt;int&gt;</th><th scope=col>&lt;int&gt;</th><th scope=col>&lt;int&gt;</th><th scope=col>&lt;int&gt;</th><th scope=col>&lt;int&gt;</th><th scope=col>&lt;chr&gt;</th><th scope=col>&lt;int&gt;</th><th scope=col>&lt;dbl&gt;</th></tr>\n",
       "</thead>\n",
       "<tbody>\n",
       "\t<tr><td>FOODS_3_001</td><td>0</td><td>2</td><td>1</td><td>3</td><td>0</td><td>0</td><td>1</td><td>0</td><td>2</td><td>...</td><td>0</td><td>2</td><td>0</td><td>0</td><td>5</td><td>2</td><td>0</td><td>TX_3</td><td>11101</td><td>2.28</td></tr>\n",
       "\t<tr><td>FOODS_3_001</td><td>0</td><td>2</td><td>1</td><td>3</td><td>0</td><td>0</td><td>1</td><td>0</td><td>2</td><td>...</td><td>0</td><td>2</td><td>0</td><td>0</td><td>5</td><td>2</td><td>0</td><td>TX_3</td><td>11102</td><td>2.28</td></tr>\n",
       "\t<tr><td>FOODS_3_001</td><td>0</td><td>2</td><td>1</td><td>3</td><td>0</td><td>0</td><td>1</td><td>0</td><td>2</td><td>...</td><td>0</td><td>2</td><td>0</td><td>0</td><td>5</td><td>2</td><td>0</td><td>TX_3</td><td>11103</td><td>2.28</td></tr>\n",
       "\t<tr><td>FOODS_3_001</td><td>0</td><td>2</td><td>1</td><td>3</td><td>0</td><td>0</td><td>1</td><td>0</td><td>2</td><td>...</td><td>0</td><td>2</td><td>0</td><td>0</td><td>5</td><td>2</td><td>0</td><td>TX_3</td><td>11104</td><td>2.28</td></tr>\n",
       "\t<tr><td>FOODS_3_001</td><td>0</td><td>2</td><td>1</td><td>3</td><td>0</td><td>0</td><td>1</td><td>0</td><td>2</td><td>...</td><td>0</td><td>2</td><td>0</td><td>0</td><td>5</td><td>2</td><td>0</td><td>TX_3</td><td>11105</td><td>2.28</td></tr>\n",
       "\t<tr><td>FOODS_3_001</td><td>0</td><td>2</td><td>1</td><td>3</td><td>0</td><td>0</td><td>1</td><td>0</td><td>2</td><td>...</td><td>0</td><td>2</td><td>0</td><td>0</td><td>5</td><td>2</td><td>0</td><td>TX_3</td><td>11106</td><td>2.28</td></tr>\n",
       "</tbody>\n",
       "</table>\n"
      ],
      "text/latex": [
       "A data.table: 6 × 1917\n",
       "\\begin{tabular}{lllllllllllllllllllll}\n",
       " item\\_id & d\\_1 & d\\_2 & d\\_3 & d\\_4 & d\\_5 & d\\_6 & d\\_7 & d\\_8 & d\\_9 & ... & d\\_1907 & d\\_1908 & d\\_1909 & d\\_1910 & d\\_1911 & d\\_1912 & d\\_1913 & store\\_id & wm\\_yr\\_wk & sell\\_price\\\\\n",
       " <chr> & <int> & <int> & <int> & <int> & <int> & <int> & <int> & <int> & <int> & ... & <int> & <int> & <int> & <int> & <int> & <int> & <int> & <chr> & <int> & <dbl>\\\\\n",
       "\\hline\n",
       "\t FOODS\\_3\\_001 & 0 & 2 & 1 & 3 & 0 & 0 & 1 & 0 & 2 & ... & 0 & 2 & 0 & 0 & 5 & 2 & 0 & TX\\_3 & 11101 & 2.28\\\\\n",
       "\t FOODS\\_3\\_001 & 0 & 2 & 1 & 3 & 0 & 0 & 1 & 0 & 2 & ... & 0 & 2 & 0 & 0 & 5 & 2 & 0 & TX\\_3 & 11102 & 2.28\\\\\n",
       "\t FOODS\\_3\\_001 & 0 & 2 & 1 & 3 & 0 & 0 & 1 & 0 & 2 & ... & 0 & 2 & 0 & 0 & 5 & 2 & 0 & TX\\_3 & 11103 & 2.28\\\\\n",
       "\t FOODS\\_3\\_001 & 0 & 2 & 1 & 3 & 0 & 0 & 1 & 0 & 2 & ... & 0 & 2 & 0 & 0 & 5 & 2 & 0 & TX\\_3 & 11104 & 2.28\\\\\n",
       "\t FOODS\\_3\\_001 & 0 & 2 & 1 & 3 & 0 & 0 & 1 & 0 & 2 & ... & 0 & 2 & 0 & 0 & 5 & 2 & 0 & TX\\_3 & 11105 & 2.28\\\\\n",
       "\t FOODS\\_3\\_001 & 0 & 2 & 1 & 3 & 0 & 0 & 1 & 0 & 2 & ... & 0 & 2 & 0 & 0 & 5 & 2 & 0 & TX\\_3 & 11106 & 2.28\\\\\n",
       "\\end{tabular}\n"
      ],
      "text/markdown": [
       "\n",
       "A data.table: 6 × 1917\n",
       "\n",
       "| item_id &lt;chr&gt; | d_1 &lt;int&gt; | d_2 &lt;int&gt; | d_3 &lt;int&gt; | d_4 &lt;int&gt; | d_5 &lt;int&gt; | d_6 &lt;int&gt; | d_7 &lt;int&gt; | d_8 &lt;int&gt; | d_9 &lt;int&gt; | ... ... | d_1907 &lt;int&gt; | d_1908 &lt;int&gt; | d_1909 &lt;int&gt; | d_1910 &lt;int&gt; | d_1911 &lt;int&gt; | d_1912 &lt;int&gt; | d_1913 &lt;int&gt; | store_id &lt;chr&gt; | wm_yr_wk &lt;int&gt; | sell_price &lt;dbl&gt; |\n",
       "|---|---|---|---|---|---|---|---|---|---|---|---|---|---|---|---|---|---|---|---|---|\n",
       "| FOODS_3_001 | 0 | 2 | 1 | 3 | 0 | 0 | 1 | 0 | 2 | ... | 0 | 2 | 0 | 0 | 5 | 2 | 0 | TX_3 | 11101 | 2.28 |\n",
       "| FOODS_3_001 | 0 | 2 | 1 | 3 | 0 | 0 | 1 | 0 | 2 | ... | 0 | 2 | 0 | 0 | 5 | 2 | 0 | TX_3 | 11102 | 2.28 |\n",
       "| FOODS_3_001 | 0 | 2 | 1 | 3 | 0 | 0 | 1 | 0 | 2 | ... | 0 | 2 | 0 | 0 | 5 | 2 | 0 | TX_3 | 11103 | 2.28 |\n",
       "| FOODS_3_001 | 0 | 2 | 1 | 3 | 0 | 0 | 1 | 0 | 2 | ... | 0 | 2 | 0 | 0 | 5 | 2 | 0 | TX_3 | 11104 | 2.28 |\n",
       "| FOODS_3_001 | 0 | 2 | 1 | 3 | 0 | 0 | 1 | 0 | 2 | ... | 0 | 2 | 0 | 0 | 5 | 2 | 0 | TX_3 | 11105 | 2.28 |\n",
       "| FOODS_3_001 | 0 | 2 | 1 | 3 | 0 | 0 | 1 | 0 | 2 | ... | 0 | 2 | 0 | 0 | 5 | 2 | 0 | TX_3 | 11106 | 2.28 |\n",
       "\n"
      ],
      "text/plain": [
       "  item_id     d_1 d_2 d_3 d_4 d_5 d_6 d_7 d_8 d_9 ... d_1907 d_1908 d_1909\n",
       "1 FOODS_3_001 0   2   1   3   0   0   1   0   2   ... 0      2      0     \n",
       "2 FOODS_3_001 0   2   1   3   0   0   1   0   2   ... 0      2      0     \n",
       "3 FOODS_3_001 0   2   1   3   0   0   1   0   2   ... 0      2      0     \n",
       "4 FOODS_3_001 0   2   1   3   0   0   1   0   2   ... 0      2      0     \n",
       "5 FOODS_3_001 0   2   1   3   0   0   1   0   2   ... 0      2      0     \n",
       "6 FOODS_3_001 0   2   1   3   0   0   1   0   2   ... 0      2      0     \n",
       "  d_1910 d_1911 d_1912 d_1913 store_id wm_yr_wk sell_price\n",
       "1 0      5      2      0      TX_3     11101    2.28      \n",
       "2 0      5      2      0      TX_3     11102    2.28      \n",
       "3 0      5      2      0      TX_3     11103    2.28      \n",
       "4 0      5      2      0      TX_3     11104    2.28      \n",
       "5 0      5      2      0      TX_3     11105    2.28      \n",
       "6 0      5      2      0      TX_3     11106    2.28      "
      ]
     },
     "metadata": {},
     "output_type": "display_data"
    }
   ],
   "source": [
    "head(sales_prices)"
   ]
  },
  {
   "cell_type": "code",
   "execution_count": 20,
   "id": "ca6fc95f",
   "metadata": {},
   "outputs": [
    {
     "data": {
      "text/html": [
       "<table class=\"dataframe\">\n",
       "<caption>A data.table: 6 × 1917</caption>\n",
       "<thead>\n",
       "\t<tr><th scope=col>item_id</th><th scope=col>d_1</th><th scope=col>d_2</th><th scope=col>d_3</th><th scope=col>d_4</th><th scope=col>d_5</th><th scope=col>d_6</th><th scope=col>d_7</th><th scope=col>d_8</th><th scope=col>d_9</th><th scope=col>...</th><th scope=col>d_1907</th><th scope=col>d_1908</th><th scope=col>d_1909</th><th scope=col>d_1910</th><th scope=col>d_1911</th><th scope=col>d_1912</th><th scope=col>d_1913</th><th scope=col>store_id</th><th scope=col>wm_yr_wk</th><th scope=col>sell_price</th></tr>\n",
       "\t<tr><th scope=col>&lt;chr&gt;</th><th scope=col>&lt;int&gt;</th><th scope=col>&lt;int&gt;</th><th scope=col>&lt;int&gt;</th><th scope=col>&lt;int&gt;</th><th scope=col>&lt;int&gt;</th><th scope=col>&lt;int&gt;</th><th scope=col>&lt;int&gt;</th><th scope=col>&lt;int&gt;</th><th scope=col>&lt;int&gt;</th><th scope=col>...</th><th scope=col>&lt;int&gt;</th><th scope=col>&lt;int&gt;</th><th scope=col>&lt;int&gt;</th><th scope=col>&lt;int&gt;</th><th scope=col>&lt;int&gt;</th><th scope=col>&lt;int&gt;</th><th scope=col>&lt;int&gt;</th><th scope=col>&lt;chr&gt;</th><th scope=col>&lt;int&gt;</th><th scope=col>&lt;dbl&gt;</th></tr>\n",
       "</thead>\n",
       "<tbody>\n",
       "\t<tr><td>FOODS_3_001</td><td>0</td><td>2</td><td>1</td><td>3</td><td>0</td><td>0</td><td>1</td><td>0</td><td>2</td><td>...</td><td>0</td><td>2</td><td>0</td><td>0</td><td>5</td><td>2</td><td>0</td><td>TX_3</td><td>11101</td><td>2.28</td></tr>\n",
       "\t<tr><td>FOODS_3_001</td><td>0</td><td>2</td><td>1</td><td>3</td><td>0</td><td>0</td><td>1</td><td>0</td><td>2</td><td>...</td><td>0</td><td>2</td><td>0</td><td>0</td><td>5</td><td>2</td><td>0</td><td>TX_3</td><td>11102</td><td>2.28</td></tr>\n",
       "\t<tr><td>FOODS_3_001</td><td>0</td><td>2</td><td>1</td><td>3</td><td>0</td><td>0</td><td>1</td><td>0</td><td>2</td><td>...</td><td>0</td><td>2</td><td>0</td><td>0</td><td>5</td><td>2</td><td>0</td><td>TX_3</td><td>11103</td><td>2.28</td></tr>\n",
       "\t<tr><td>FOODS_3_001</td><td>0</td><td>2</td><td>1</td><td>3</td><td>0</td><td>0</td><td>1</td><td>0</td><td>2</td><td>...</td><td>0</td><td>2</td><td>0</td><td>0</td><td>5</td><td>2</td><td>0</td><td>TX_3</td><td>11104</td><td>2.28</td></tr>\n",
       "\t<tr><td>FOODS_3_001</td><td>0</td><td>2</td><td>1</td><td>3</td><td>0</td><td>0</td><td>1</td><td>0</td><td>2</td><td>...</td><td>0</td><td>2</td><td>0</td><td>0</td><td>5</td><td>2</td><td>0</td><td>TX_3</td><td>11105</td><td>2.28</td></tr>\n",
       "\t<tr><td>FOODS_3_001</td><td>0</td><td>2</td><td>1</td><td>3</td><td>0</td><td>0</td><td>1</td><td>0</td><td>2</td><td>...</td><td>0</td><td>2</td><td>0</td><td>0</td><td>5</td><td>2</td><td>0</td><td>TX_3</td><td>11106</td><td>2.28</td></tr>\n",
       "</tbody>\n",
       "</table>\n"
      ],
      "text/latex": [
       "A data.table: 6 × 1917\n",
       "\\begin{tabular}{lllllllllllllllllllll}\n",
       " item\\_id & d\\_1 & d\\_2 & d\\_3 & d\\_4 & d\\_5 & d\\_6 & d\\_7 & d\\_8 & d\\_9 & ... & d\\_1907 & d\\_1908 & d\\_1909 & d\\_1910 & d\\_1911 & d\\_1912 & d\\_1913 & store\\_id & wm\\_yr\\_wk & sell\\_price\\\\\n",
       " <chr> & <int> & <int> & <int> & <int> & <int> & <int> & <int> & <int> & <int> & ... & <int> & <int> & <int> & <int> & <int> & <int> & <int> & <chr> & <int> & <dbl>\\\\\n",
       "\\hline\n",
       "\t FOODS\\_3\\_001 & 0 & 2 & 1 & 3 & 0 & 0 & 1 & 0 & 2 & ... & 0 & 2 & 0 & 0 & 5 & 2 & 0 & TX\\_3 & 11101 & 2.28\\\\\n",
       "\t FOODS\\_3\\_001 & 0 & 2 & 1 & 3 & 0 & 0 & 1 & 0 & 2 & ... & 0 & 2 & 0 & 0 & 5 & 2 & 0 & TX\\_3 & 11102 & 2.28\\\\\n",
       "\t FOODS\\_3\\_001 & 0 & 2 & 1 & 3 & 0 & 0 & 1 & 0 & 2 & ... & 0 & 2 & 0 & 0 & 5 & 2 & 0 & TX\\_3 & 11103 & 2.28\\\\\n",
       "\t FOODS\\_3\\_001 & 0 & 2 & 1 & 3 & 0 & 0 & 1 & 0 & 2 & ... & 0 & 2 & 0 & 0 & 5 & 2 & 0 & TX\\_3 & 11104 & 2.28\\\\\n",
       "\t FOODS\\_3\\_001 & 0 & 2 & 1 & 3 & 0 & 0 & 1 & 0 & 2 & ... & 0 & 2 & 0 & 0 & 5 & 2 & 0 & TX\\_3 & 11105 & 2.28\\\\\n",
       "\t FOODS\\_3\\_001 & 0 & 2 & 1 & 3 & 0 & 0 & 1 & 0 & 2 & ... & 0 & 2 & 0 & 0 & 5 & 2 & 0 & TX\\_3 & 11106 & 2.28\\\\\n",
       "\\end{tabular}\n"
      ],
      "text/markdown": [
       "\n",
       "A data.table: 6 × 1917\n",
       "\n",
       "| item_id &lt;chr&gt; | d_1 &lt;int&gt; | d_2 &lt;int&gt; | d_3 &lt;int&gt; | d_4 &lt;int&gt; | d_5 &lt;int&gt; | d_6 &lt;int&gt; | d_7 &lt;int&gt; | d_8 &lt;int&gt; | d_9 &lt;int&gt; | ... ... | d_1907 &lt;int&gt; | d_1908 &lt;int&gt; | d_1909 &lt;int&gt; | d_1910 &lt;int&gt; | d_1911 &lt;int&gt; | d_1912 &lt;int&gt; | d_1913 &lt;int&gt; | store_id &lt;chr&gt; | wm_yr_wk &lt;int&gt; | sell_price &lt;dbl&gt; |\n",
       "|---|---|---|---|---|---|---|---|---|---|---|---|---|---|---|---|---|---|---|---|---|\n",
       "| FOODS_3_001 | 0 | 2 | 1 | 3 | 0 | 0 | 1 | 0 | 2 | ... | 0 | 2 | 0 | 0 | 5 | 2 | 0 | TX_3 | 11101 | 2.28 |\n",
       "| FOODS_3_001 | 0 | 2 | 1 | 3 | 0 | 0 | 1 | 0 | 2 | ... | 0 | 2 | 0 | 0 | 5 | 2 | 0 | TX_3 | 11102 | 2.28 |\n",
       "| FOODS_3_001 | 0 | 2 | 1 | 3 | 0 | 0 | 1 | 0 | 2 | ... | 0 | 2 | 0 | 0 | 5 | 2 | 0 | TX_3 | 11103 | 2.28 |\n",
       "| FOODS_3_001 | 0 | 2 | 1 | 3 | 0 | 0 | 1 | 0 | 2 | ... | 0 | 2 | 0 | 0 | 5 | 2 | 0 | TX_3 | 11104 | 2.28 |\n",
       "| FOODS_3_001 | 0 | 2 | 1 | 3 | 0 | 0 | 1 | 0 | 2 | ... | 0 | 2 | 0 | 0 | 5 | 2 | 0 | TX_3 | 11105 | 2.28 |\n",
       "| FOODS_3_001 | 0 | 2 | 1 | 3 | 0 | 0 | 1 | 0 | 2 | ... | 0 | 2 | 0 | 0 | 5 | 2 | 0 | TX_3 | 11106 | 2.28 |\n",
       "\n"
      ],
      "text/plain": [
       "  item_id     d_1 d_2 d_3 d_4 d_5 d_6 d_7 d_8 d_9 ... d_1907 d_1908 d_1909\n",
       "1 FOODS_3_001 0   2   1   3   0   0   1   0   2   ... 0      2      0     \n",
       "2 FOODS_3_001 0   2   1   3   0   0   1   0   2   ... 0      2      0     \n",
       "3 FOODS_3_001 0   2   1   3   0   0   1   0   2   ... 0      2      0     \n",
       "4 FOODS_3_001 0   2   1   3   0   0   1   0   2   ... 0      2      0     \n",
       "5 FOODS_3_001 0   2   1   3   0   0   1   0   2   ... 0      2      0     \n",
       "6 FOODS_3_001 0   2   1   3   0   0   1   0   2   ... 0      2      0     \n",
       "  d_1910 d_1911 d_1912 d_1913 store_id wm_yr_wk sell_price\n",
       "1 0      5      2      0      TX_3     11101    2.28      \n",
       "2 0      5      2      0      TX_3     11102    2.28      \n",
       "3 0      5      2      0      TX_3     11103    2.28      \n",
       "4 0      5      2      0      TX_3     11104    2.28      \n",
       "5 0      5      2      0      TX_3     11105    2.28      \n",
       "6 0      5      2      0      TX_3     11106    2.28      "
      ]
     },
     "metadata": {},
     "output_type": "display_data"
    }
   ],
   "source": [
    "sales_prices[, id := NULL]  # Removes the 'id' column in-place\n",
    "head(sales_prices)"
   ]
  },
  {
   "cell_type": "code",
   "execution_count": 24,
   "id": "9fb53c28",
   "metadata": {},
   "outputs": [
    {
     "data": {
      "text/html": [
       "<table class=\"dataframe\">\n",
       "<caption>A data.table: 6 × 1927</caption>\n",
       "<thead>\n",
       "\t<tr><th scope=col>wm_yr_wk</th><th scope=col>item_id</th><th scope=col>d_1</th><th scope=col>d_2</th><th scope=col>d_3</th><th scope=col>d_4</th><th scope=col>d_5</th><th scope=col>d_6</th><th scope=col>d_7</th><th scope=col>d_8</th><th scope=col>...</th><th scope=col>date</th><th scope=col>weekday</th><th scope=col>wday</th><th scope=col>month</th><th scope=col>year</th><th scope=col>event_name_1</th><th scope=col>event_type_1</th><th scope=col>event_name_2</th><th scope=col>event_type_2</th><th scope=col>snap_TX</th></tr>\n",
       "\t<tr><th scope=col>&lt;int&gt;</th><th scope=col>&lt;chr&gt;</th><th scope=col>&lt;int&gt;</th><th scope=col>&lt;int&gt;</th><th scope=col>&lt;int&gt;</th><th scope=col>&lt;int&gt;</th><th scope=col>&lt;int&gt;</th><th scope=col>&lt;int&gt;</th><th scope=col>&lt;int&gt;</th><th scope=col>&lt;int&gt;</th><th scope=col>...</th><th scope=col>&lt;chr&gt;</th><th scope=col>&lt;chr&gt;</th><th scope=col>&lt;int&gt;</th><th scope=col>&lt;int&gt;</th><th scope=col>&lt;int&gt;</th><th scope=col>&lt;chr&gt;</th><th scope=col>&lt;chr&gt;</th><th scope=col>&lt;chr&gt;</th><th scope=col>&lt;chr&gt;</th><th scope=col>&lt;int&gt;</th></tr>\n",
       "</thead>\n",
       "<tbody>\n",
       "\t<tr><td>11101</td><td>FOODS_3_001</td><td> 0</td><td> 2</td><td>1</td><td>3</td><td>0</td><td> 0</td><td>1</td><td> 0</td><td>...</td><td>1/29/2011</td><td>Saturday</td><td>1</td><td>1</td><td>2011</td><td>NA</td><td>NA</td><td>NA</td><td>NA</td><td>0</td></tr>\n",
       "\t<tr><td>11101</td><td>FOODS_3_005</td><td> 0</td><td> 1</td><td>1</td><td>0</td><td>0</td><td> 1</td><td>2</td><td> 0</td><td>...</td><td>1/29/2011</td><td>Saturday</td><td>1</td><td>1</td><td>2011</td><td>NA</td><td>NA</td><td>NA</td><td>NA</td><td>0</td></tr>\n",
       "\t<tr><td>11101</td><td>FOODS_3_007</td><td>27</td><td>27</td><td>8</td><td>0</td><td>0</td><td>11</td><td>8</td><td>33</td><td>...</td><td>1/29/2011</td><td>Saturday</td><td>1</td><td>1</td><td>2011</td><td>NA</td><td>NA</td><td>NA</td><td>NA</td><td>0</td></tr>\n",
       "\t<tr><td>11101</td><td>FOODS_3_011</td><td> 1</td><td> 2</td><td>3</td><td>3</td><td>1</td><td> 1</td><td>3</td><td> 7</td><td>...</td><td>1/29/2011</td><td>Saturday</td><td>1</td><td>1</td><td>2011</td><td>NA</td><td>NA</td><td>NA</td><td>NA</td><td>0</td></tr>\n",
       "\t<tr><td>11101</td><td>FOODS_3_014</td><td> 3</td><td> 3</td><td>2</td><td>4</td><td>1</td><td> 1</td><td>2</td><td> 0</td><td>...</td><td>1/29/2011</td><td>Saturday</td><td>1</td><td>1</td><td>2011</td><td>NA</td><td>NA</td><td>NA</td><td>NA</td><td>0</td></tr>\n",
       "\t<tr><td>11101</td><td>FOODS_3_017</td><td> 0</td><td> 0</td><td>0</td><td>0</td><td>1</td><td> 0</td><td>0</td><td> 0</td><td>...</td><td>1/29/2011</td><td>Saturday</td><td>1</td><td>1</td><td>2011</td><td>NA</td><td>NA</td><td>NA</td><td>NA</td><td>0</td></tr>\n",
       "</tbody>\n",
       "</table>\n"
      ],
      "text/latex": [
       "A data.table: 6 × 1927\n",
       "\\begin{tabular}{lllllllllllllllllllll}\n",
       " wm\\_yr\\_wk & item\\_id & d\\_1 & d\\_2 & d\\_3 & d\\_4 & d\\_5 & d\\_6 & d\\_7 & d\\_8 & ... & date & weekday & wday & month & year & event\\_name\\_1 & event\\_type\\_1 & event\\_name\\_2 & event\\_type\\_2 & snap\\_TX\\\\\n",
       " <int> & <chr> & <int> & <int> & <int> & <int> & <int> & <int> & <int> & <int> & ... & <chr> & <chr> & <int> & <int> & <int> & <chr> & <chr> & <chr> & <chr> & <int>\\\\\n",
       "\\hline\n",
       "\t 11101 & FOODS\\_3\\_001 &  0 &  2 & 1 & 3 & 0 &  0 & 1 &  0 & ... & 1/29/2011 & Saturday & 1 & 1 & 2011 & NA & NA & NA & NA & 0\\\\\n",
       "\t 11101 & FOODS\\_3\\_005 &  0 &  1 & 1 & 0 & 0 &  1 & 2 &  0 & ... & 1/29/2011 & Saturday & 1 & 1 & 2011 & NA & NA & NA & NA & 0\\\\\n",
       "\t 11101 & FOODS\\_3\\_007 & 27 & 27 & 8 & 0 & 0 & 11 & 8 & 33 & ... & 1/29/2011 & Saturday & 1 & 1 & 2011 & NA & NA & NA & NA & 0\\\\\n",
       "\t 11101 & FOODS\\_3\\_011 &  1 &  2 & 3 & 3 & 1 &  1 & 3 &  7 & ... & 1/29/2011 & Saturday & 1 & 1 & 2011 & NA & NA & NA & NA & 0\\\\\n",
       "\t 11101 & FOODS\\_3\\_014 &  3 &  3 & 2 & 4 & 1 &  1 & 2 &  0 & ... & 1/29/2011 & Saturday & 1 & 1 & 2011 & NA & NA & NA & NA & 0\\\\\n",
       "\t 11101 & FOODS\\_3\\_017 &  0 &  0 & 0 & 0 & 1 &  0 & 0 &  0 & ... & 1/29/2011 & Saturday & 1 & 1 & 2011 & NA & NA & NA & NA & 0\\\\\n",
       "\\end{tabular}\n"
      ],
      "text/markdown": [
       "\n",
       "A data.table: 6 × 1927\n",
       "\n",
       "| wm_yr_wk &lt;int&gt; | item_id &lt;chr&gt; | d_1 &lt;int&gt; | d_2 &lt;int&gt; | d_3 &lt;int&gt; | d_4 &lt;int&gt; | d_5 &lt;int&gt; | d_6 &lt;int&gt; | d_7 &lt;int&gt; | d_8 &lt;int&gt; | ... ... | date &lt;chr&gt; | weekday &lt;chr&gt; | wday &lt;int&gt; | month &lt;int&gt; | year &lt;int&gt; | event_name_1 &lt;chr&gt; | event_type_1 &lt;chr&gt; | event_name_2 &lt;chr&gt; | event_type_2 &lt;chr&gt; | snap_TX &lt;int&gt; |\n",
       "|---|---|---|---|---|---|---|---|---|---|---|---|---|---|---|---|---|---|---|---|---|\n",
       "| 11101 | FOODS_3_001 |  0 |  2 | 1 | 3 | 0 |  0 | 1 |  0 | ... | 1/29/2011 | Saturday | 1 | 1 | 2011 | NA | NA | NA | NA | 0 |\n",
       "| 11101 | FOODS_3_005 |  0 |  1 | 1 | 0 | 0 |  1 | 2 |  0 | ... | 1/29/2011 | Saturday | 1 | 1 | 2011 | NA | NA | NA | NA | 0 |\n",
       "| 11101 | FOODS_3_007 | 27 | 27 | 8 | 0 | 0 | 11 | 8 | 33 | ... | 1/29/2011 | Saturday | 1 | 1 | 2011 | NA | NA | NA | NA | 0 |\n",
       "| 11101 | FOODS_3_011 |  1 |  2 | 3 | 3 | 1 |  1 | 3 |  7 | ... | 1/29/2011 | Saturday | 1 | 1 | 2011 | NA | NA | NA | NA | 0 |\n",
       "| 11101 | FOODS_3_014 |  3 |  3 | 2 | 4 | 1 |  1 | 2 |  0 | ... | 1/29/2011 | Saturday | 1 | 1 | 2011 | NA | NA | NA | NA | 0 |\n",
       "| 11101 | FOODS_3_017 |  0 |  0 | 0 | 0 | 1 |  0 | 0 |  0 | ... | 1/29/2011 | Saturday | 1 | 1 | 2011 | NA | NA | NA | NA | 0 |\n",
       "\n"
      ],
      "text/plain": [
       "  wm_yr_wk item_id     d_1 d_2 d_3 d_4 d_5 d_6 d_7 d_8 ... date      weekday \n",
       "1 11101    FOODS_3_001  0   2  1   3   0    0  1    0  ... 1/29/2011 Saturday\n",
       "2 11101    FOODS_3_005  0   1  1   0   0    1  2    0  ... 1/29/2011 Saturday\n",
       "3 11101    FOODS_3_007 27  27  8   0   0   11  8   33  ... 1/29/2011 Saturday\n",
       "4 11101    FOODS_3_011  1   2  3   3   1    1  3    7  ... 1/29/2011 Saturday\n",
       "5 11101    FOODS_3_014  3   3  2   4   1    1  2    0  ... 1/29/2011 Saturday\n",
       "6 11101    FOODS_3_017  0   0  0   0   1    0  0    0  ... 1/29/2011 Saturday\n",
       "  wday month year event_name_1 event_type_1 event_name_2 event_type_2 snap_TX\n",
       "1 1    1     2011 NA           NA           NA           NA           0      \n",
       "2 1    1     2011 NA           NA           NA           NA           0      \n",
       "3 1    1     2011 NA           NA           NA           NA           0      \n",
       "4 1    1     2011 NA           NA           NA           NA           0      \n",
       "5 1    1     2011 NA           NA           NA           NA           0      \n",
       "6 1    1     2011 NA           NA           NA           NA           0      "
      ]
     },
     "metadata": {},
     "output_type": "display_data"
    }
   ],
   "source": [
    "# Obtained a duplicates error so decided to remove them\n",
    "calendar <- unique(calendar, by = \"wm_yr_wk\")\n",
    "\n",
    "# Merging with calendar now\n",
    "merged_data <- merge(sales_prices, calendar, by = \"wm_yr_wk\", all.x = TRUE)\n",
    "head(merged_data)"
   ]
  },
  {
   "cell_type": "code",
   "execution_count": 22,
   "id": "b76f463f",
   "metadata": {},
   "outputs": [
    {
     "data": {
      "text/html": [
       "823"
      ],
      "text/latex": [
       "823"
      ],
      "text/markdown": [
       "823"
      ],
      "text/plain": [
       "[1] 823"
      ]
     },
     "metadata": {},
     "output_type": "display_data"
    }
   ],
   "source": [
    "# Checking the number of items we have\n",
    "unique_item_count <- uniqueN(sell_prices$item_id)\n",
    "unique_item_count"
   ]
  },
  {
   "cell_type": "markdown",
   "id": "0c6c5b2d",
   "metadata": {},
   "source": [
    "## Our EDA will focus on inspecting on whether the price changes on our 823 items are correlated with events "
   ]
  },
  {
   "cell_type": "code",
   "execution_count": 33,
   "id": "e3f4a727",
   "metadata": {},
   "outputs": [
    {
     "data": {
      "text/plain": [
       "\n",
       "    Cinco De Mayo       Eid al-Fitr         EidAlAdha         Halloween \n",
       "              526               820               793               823 \n",
       "  IndependenceDay OrthodoxChristmas        Pesach End     StPatricksDay \n",
       "              820               473              2157               508 \n",
       "    ValentinesDay \n",
       "              817 "
      ]
     },
     "metadata": {},
     "output_type": "display_data"
    },
    {
     "data": {
      "text/plain": [
       "\n",
       " Cultural  National Religious \n",
       "     2674       820      4243 "
      ]
     },
     "metadata": {},
     "output_type": "display_data"
    }
   ],
   "source": [
    "table(merged_data$event_name_1)\n",
    "table(merged_data$event_type_1)"
   ]
  },
  {
   "cell_type": "code",
   "execution_count": 35,
   "id": "b0a0135d",
   "metadata": {},
   "outputs": [
    {
     "data": {
      "text/plain": [
       "< table of extent 0 >"
      ]
     },
     "metadata": {},
     "output_type": "display_data"
    },
    {
     "data": {
      "text/plain": [
       "< table of extent 0 >"
      ]
     },
     "metadata": {},
     "output_type": "display_data"
    }
   ],
   "source": [
    "table(merged_data$event_name_2)\n",
    "table(merged_data$event_type_2)\n",
    "\n",
    "# maybe deleted some when removing the duplicates or too many NaNs?"
   ]
  },
  {
   "cell_type": "code",
   "execution_count": 32,
   "id": "ec1c4ca3",
   "metadata": {},
   "outputs": [
    {
     "data": {
      "image/png": "[encoded data removed]",
      "text/plain": [
       "plot without title"
      ]
     },
     "metadata": {
      "image/png": {
       "height": 420,
       "width": 420
      }
     },
     "output_type": "display_data"
    },
    {
     "data": {
      "image/png": "[encoded data removed]",
      "text/plain": [
       "plot without title"
      ]
     },
     "metadata": {
      "image/png": {
       "height": 420,
       "width": 420
      }
     },
     "output_type": "display_data"
    }
   ],
   "source": [
    "library(ggplot2)\n",
    "\n",
    "# Histogram of prices\n",
    "ggplot(merged_data, aes(x = sell_price)) +\n",
    "  geom_histogram(bins = 30, fill = \"blue\", color = \"black\") +\n",
    "  ggtitle(\"Distribution of Item Prices\")\n",
    "\n",
    "# Boxplot to see price variations during events\n",
    "ggplot(merged_data, aes(x = event_name_1, y = sell_price, fill = event_type_1)) +\n",
    "  geom_boxplot() +\n",
    "  ggtitle(\"Price Variation During Events\") +\n",
    "  theme(axis.text.x = element_text(angle = 45, hjust = 1))"
   ]
  }
 ],
 "metadata": {
  "kernelspec": {
   "display_name": "R",
   "language": "R",
   "name": "ir"
  },
  "language_info": {
   "codemirror_mode": "r",
   "file_extension": ".r",
   "mimetype": "text/x-r-source",
   "name": "R",
   "pygments_lexer": "r",
   "version": "4.1.2"
  }
 },
 "nbformat": 4,
 "nbformat_minor": 5
}
